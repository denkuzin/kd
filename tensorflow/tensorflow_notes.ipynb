{
 "cells": [
  {
   "cell_type": "markdown",
   "metadata": {},
   "source": [
    "# SUMMARY"
   ]
  },
  {
   "cell_type": "markdown",
   "metadata": {},
   "source": [
    "**Tensor** is a set of primitive values shaped into any array any dimensions. Rank of tensor is number of dimensions.\n",
    "\n",
    "TensorFlow Core programs as consisting of two discrete sections:\n",
    "\n",
    "1. Building the computational graph\n",
    "2. Running the computational graph\n",
    "\n",
    "A **computational graph** is a series of TensorFlow operations arranged into a graph of nodes\n",
    " \n",
    "To actually **evaluate** the nodes, we must run the computational graph within a session. A **session** encapsulates the control and state of the TensorFlow runtime"
   ]
  },
  {
   "cell_type": "code",
   "execution_count": 1,
   "metadata": {},
   "outputs": [],
   "source": [
    "import tensorflow as tf\n",
    "import numpy as np\n",
    "sess = tf.Session()\n",
    "sess = tf.InteractiveSession()\n",
    "#The only difference with a regular Session is that an InteractiveSession installs itself as the default \n",
    "#session on construction. The methods Tensor.eval() and Operation.run() will use that session to run ops."
   ]
  },
  {
   "cell_type": "markdown",
   "metadata": {},
   "source": [
    "#### Syntaxis"
   ]
  },
  {
   "cell_type": "code",
   "execution_count": 73,
   "metadata": {},
   "outputs": [
    {
     "name": "stdout",
     "output_type": "stream",
     "text": [
      "placeholder example:\n",
      "[[  1.   2.   3.   4.]\n",
      " [  5.  56.   7.   8.]]\n",
      "\n",
      "variable var = [ 0.30000001]\n"
     ]
    }
   ],
   "source": [
    "a = tf.constant(3.154); b = tf.constant(2.1)      #constants\n",
    "c = tf.add(a,b)             #addition\n",
    "c = a + b                   #addition (also)\n",
    "\n",
    "d = tf.placeholder(tf.float32, [None, 4]) #we promise to fill it)\n",
    "print \"placeholder example:\\n{}\\n\".format(sess.run(d, feed_dict={d:[[1,2,3,4],[5,56,7,8]]}))\n",
    "\n",
    "var = tf.Variable([.3], tf.float32)               #variables\n",
    "init = tf.global_variables_initializer()\n",
    "sess.run(init)      #we should to init variables\n",
    "print \"variable var = {}\".format(sess.run(var))"
   ]
  },
  {
   "cell_type": "code",
   "execution_count": 263,
   "metadata": {
    "collapsed": true
   },
   "outputs": [],
   "source": [
    "import tensorflow as tf"
   ]
  },
  {
   "cell_type": "code",
   "execution_count": null,
   "metadata": {
    "scrolled": true
   },
   "outputs": [],
   "source": [
    "#files = tf.train.match_filenames_once('gs://dkuzin/experiments/test-data/data*', name = \"myFiles\")\n",
    "files = tf.constant([1,2,3,4,5,6,7,8,9])\n",
    "WORKERS_NUM = 3\n",
    "#aa = files.shape.num_elements()\n",
    "num_splits = tf.cast(tf.minimum(5, 6), tf.int16)\n",
    "files_split = tf.split(files, [3,3,4], num = 3)\n",
    "\n",
    "#filename_queue = tf.train.string_input_producer(files, num_epochs=None, shuffle=True, \n",
    "#                       seed=None, shared_name=None, name=None)\n",
    "#reader = tf.WholeFileReader()\n",
    "#_, d = reader.read(filename_queue)\n",
    "#coord = tf.train.Coordinator()\n",
    "\n",
    "init = (tf.global_variables_initializer(), tf.local_variables_initializer())\n",
    "sess = tf.InteractiveSession()\n",
    "sess.run(init)\n",
    "\n",
    "\n",
    "print files_split[0].eval(session = sess)\n",
    "print len(files_split)\n",
    "print files_split\n",
    "\n",
    "print files.eval(session = sess)\n",
    "#files = sorted(files)\n",
    "WORKERS_NUM = 3\n",
    "WORKER_NUMBER = 2\n",
    "\n",
    "#files_to_process = chunks[WORKER_NUMBER]\n",
    "\n",
    "#print chunks\n",
    "#print \n",
    "#print files_to_process\n",
    "#sess.close()"
   ]
  },
  {
   "cell_type": "code",
   "execution_count": null,
   "metadata": {},
   "outputs": [],
   "source": []
  },
  {
   "cell_type": "code",
   "execution_count": 312,
   "metadata": {},
   "outputs": [
    {
     "ename": "AttributeError",
     "evalue": "'module' object has no attribute 'split_v'",
     "output_type": "error",
     "traceback": [
      "\u001b[0;31m---------------------------------------------------------------------------\u001b[0m",
      "\u001b[0;31mAttributeError\u001b[0m                            Traceback (most recent call last)",
      "\u001b[0;32m<ipython-input-312-18b23c4afe2d>\u001b[0m in \u001b[0;36m<module>\u001b[0;34m()\u001b[0m\n\u001b[1;32m      1\u001b[0m \u001b[0mfiles\u001b[0m \u001b[0;34m=\u001b[0m \u001b[0mtf\u001b[0m\u001b[0;34m.\u001b[0m\u001b[0mconstant\u001b[0m\u001b[0;34m(\u001b[0m\u001b[0;34m[\u001b[0m\u001b[0;36m1\u001b[0m\u001b[0;34m,\u001b[0m\u001b[0;36m2\u001b[0m\u001b[0;34m,\u001b[0m\u001b[0;36m3\u001b[0m\u001b[0;34m,\u001b[0m\u001b[0;36m4\u001b[0m\u001b[0;34m,\u001b[0m\u001b[0;36m5\u001b[0m\u001b[0;34m,\u001b[0m\u001b[0;36m6\u001b[0m\u001b[0;34m,\u001b[0m\u001b[0;36m7\u001b[0m\u001b[0;34m,\u001b[0m\u001b[0;36m8\u001b[0m\u001b[0;34m,\u001b[0m\u001b[0;36m9\u001b[0m\u001b[0;34m]\u001b[0m\u001b[0;34m,\u001b[0m \u001b[0mdtype\u001b[0m\u001b[0;34m=\u001b[0m\u001b[0mtf\u001b[0m\u001b[0;34m.\u001b[0m\u001b[0mfloat16\u001b[0m\u001b[0;34m)\u001b[0m\u001b[0;34m\u001b[0m\u001b[0m\n\u001b[0;32m----> 2\u001b[0;31m \u001b[0mfiles_split\u001b[0m \u001b[0;34m=\u001b[0m \u001b[0mtf\u001b[0m\u001b[0;34m.\u001b[0m\u001b[0msplit_v\u001b[0m\u001b[0;34m(\u001b[0m\u001b[0mfiles\u001b[0m\u001b[0;34m,\u001b[0m \u001b[0;36m3\u001b[0m\u001b[0;34m,\u001b[0m \u001b[0maxis\u001b[0m\u001b[0;34m=\u001b[0m\u001b[0;36m0\u001b[0m\u001b[0;34m)\u001b[0m\u001b[0;34m\u001b[0m\u001b[0m\n\u001b[0m\u001b[1;32m      3\u001b[0m \u001b[0;34m\u001b[0m\u001b[0m\n\u001b[1;32m      4\u001b[0m \u001b[0msess\u001b[0m \u001b[0;34m=\u001b[0m \u001b[0mtf\u001b[0m\u001b[0;34m.\u001b[0m\u001b[0mInteractiveSession\u001b[0m\u001b[0;34m(\u001b[0m\u001b[0;34m)\u001b[0m\u001b[0;34m\u001b[0m\u001b[0m\n\u001b[1;32m      5\u001b[0m \u001b[0minit\u001b[0m \u001b[0;34m=\u001b[0m \u001b[0;34m(\u001b[0m\u001b[0mtf\u001b[0m\u001b[0;34m.\u001b[0m\u001b[0mglobal_variables_initializer\u001b[0m\u001b[0;34m(\u001b[0m\u001b[0;34m)\u001b[0m\u001b[0;34m,\u001b[0m \u001b[0mtf\u001b[0m\u001b[0;34m.\u001b[0m\u001b[0mlocal_variables_initializer\u001b[0m\u001b[0;34m(\u001b[0m\u001b[0;34m)\u001b[0m\u001b[0;34m)\u001b[0m\u001b[0;34m\u001b[0m\u001b[0m\n",
      "\u001b[0;31mAttributeError\u001b[0m: 'module' object has no attribute 'split_v'"
     ]
    }
   ],
   "source": [
    "files = tf.constant([1,2,3,4,5,6,7,8,9], dtype=tf.float16)\n",
    "files_split = tf.split_v(files, 3, axis=0)\n",
    "\n",
    "sess = tf.InteractiveSession()\n",
    "init = (tf.global_variables_initializer(), tf.local_variables_initializer())\n",
    "sess.run(init)\n",
    "print files.eval(session=sess)\n",
    "print\n",
    "print files_split"
   ]
  },
  {
   "cell_type": "code",
   "execution_count": 250,
   "metadata": {},
   "outputs": [
    {
     "data": {
      "text/plain": [
       "array([  1.,   2.,   3.,   4.,   5.,   6.,   7.,   8.,   9.,  10.], dtype=float16)"
      ]
     },
     "execution_count": 250,
     "metadata": {},
     "output_type": "execute_result"
    }
   ],
   "source": [
    "files_split[0].eval(session=sess)"
   ]
  },
  {
   "cell_type": "code",
   "execution_count": 251,
   "metadata": {},
   "outputs": [
    {
     "data": {
      "text/plain": [
       "TensorShape([Dimension(10)])"
      ]
     },
     "execution_count": 251,
     "metadata": {},
     "output_type": "execute_result"
    }
   ],
   "source": [
    "files.shape"
   ]
  },
  {
   "cell_type": "code",
   "execution_count": 252,
   "metadata": {},
   "outputs": [
    {
     "data": {
      "text/plain": [
       "TensorShape([Dimension(10)])"
      ]
     },
     "execution_count": 252,
     "metadata": {},
     "output_type": "execute_result"
    }
   ],
   "source": [
    "files.get_shape()"
   ]
  },
  {
   "cell_type": "code",
   "execution_count": null,
   "metadata": {
    "collapsed": true
   },
   "outputs": [],
   "source": []
  },
  {
   "cell_type": "code",
   "execution_count": null,
   "metadata": {},
   "outputs": [],
   "source": []
  },
  {
   "cell_type": "code",
   "execution_count": null,
   "metadata": {
    "collapsed": true
   },
   "outputs": [],
   "source": []
  },
  {
   "cell_type": "code",
   "execution_count": null,
   "metadata": {
    "collapsed": true
   },
   "outputs": [],
   "source": []
  },
  {
   "cell_type": "code",
   "execution_count": 1,
   "metadata": {},
   "outputs": [],
   "source": [
    "import tensorflow as tf\n",
    "\n",
    "files_names = tf.train.match_filenames_once('gs://dkuzin/experiments/test-data/data*',\n",
    "                                                        name = \"myFiles\")\n",
    "filename_queue = tf.train.string_input_producer(files_names,\n",
    "                                               shuffle=True,\n",
    "                                               num_epochs=2)\n",
    "reader = tf.TextLineReader()\n",
    "_ , value = reader.read(filename_queue)\n",
    "\n",
    "col1,col2 = tf.decode_csv(value, \n",
    "            record_defaults=[[1],[1]], field_delim=\"\\t\")\n",
    "\n",
    "featues = tf.stack([col1,col2]) \n",
    "\n",
    "BATCH_SIZE = 5\n",
    "min_after_dequeue = 10 * BATCH_SIZE\n",
    "capacity = 20 * BATCH_SIZE\n",
    "data_batch, label_batch = tf.train.batch([col1,[col2]], batch_size=BATCH_SIZE, \n",
    "                                         capacity=capacity)\n",
    "\n",
    "\n",
    "\n",
    "init = (tf.global_variables_initializer(), tf.local_variables_initializer())\n",
    "sess = tf.InteractiveSession()\n",
    "sess.run(init)\n",
    "\n",
    "coord = tf.train.Coordinator()  #after session inicialisation\n",
    "_ = tf.train.start_queue_runners(coord=coord)"
   ]
  },
  {
   "cell_type": "code",
   "execution_count": null,
   "metadata": {},
   "outputs": [],
   "source": []
  },
  {
   "cell_type": "code",
   "execution_count": 144,
   "metadata": {},
   "outputs": [
    {
     "data": {
      "text/plain": [
       "array([ 8971, 10641,  7745,  8705,  2934], dtype=int32)"
      ]
     },
     "execution_count": 144,
     "metadata": {},
     "output_type": "execute_result"
    }
   ],
   "source": [
    "data_batch.eval(session = sess)"
   ]
  },
  {
   "cell_type": "code",
   "execution_count": 136,
   "metadata": {},
   "outputs": [
    {
     "data": {
      "text/plain": [
       "array([[180],\n",
       "       [592],\n",
       "       [279],\n",
       "       [320],\n",
       "       [168]], dtype=int32)"
      ]
     },
     "execution_count": 136,
     "metadata": {},
     "output_type": "execute_result"
    }
   ],
   "source": [
    "label_batch.eval(session = sess)"
   ]
  },
  {
   "cell_type": "code",
   "execution_count": null,
   "metadata": {},
   "outputs": [],
   "source": []
  },
  {
   "cell_type": "code",
   "execution_count": null,
   "metadata": {
    "collapsed": true
   },
   "outputs": [],
   "source": []
  },
  {
   "cell_type": "code",
   "execution_count": null,
   "metadata": {
    "collapsed": true
   },
   "outputs": [],
   "source": []
  },
  {
   "cell_type": "code",
   "execution_count": 11,
   "metadata": {},
   "outputs": [
    {
     "data": {
      "text/plain": [
       "(None, None)"
      ]
     },
     "execution_count": 11,
     "metadata": {},
     "output_type": "execute_result"
    }
   ],
   "source": [
    "import tensorflow as tf\n",
    "INPUT_PATTERN = \"gs://dkuzin/experiments/test-data/data*txt\"\n",
    "files_names = tf.train.match_filenames_once(INPUT_PATTERN,\n",
    "                                                        name = \"myFiles\")\n",
    "to_process = tf.strided_slice(files_names, [2],[9999999999],[2]) #, strides=[1])\n",
    "\n",
    "init = (tf.global_variables_initializer(), tf.local_variables_initializer())\n",
    "sess = tf.InteractiveSession()\n",
    "sess.run(init)"
   ]
  },
  {
   "cell_type": "code",
   "execution_count": 12,
   "metadata": {},
   "outputs": [
    {
     "data": {
      "text/plain": [
       "array(['gs://dkuzin/experiments/test-data/data.txt',\n",
       "       'gs://dkuzin/experiments/test-data/data1.txt',\n",
       "       'gs://dkuzin/experiments/test-data/data2.txt',\n",
       "       'gs://dkuzin/experiments/test-data/data3.txt',\n",
       "       'gs://dkuzin/experiments/test-data/data4.txt',\n",
       "       'gs://dkuzin/experiments/test-data/data5.txt',\n",
       "       'gs://dkuzin/experiments/test-data/data6.txt',\n",
       "       'gs://dkuzin/experiments/test-data/data7.txt',\n",
       "       'gs://dkuzin/experiments/test-data/data8.txt',\n",
       "       'gs://dkuzin/experiments/test-data/data9.txt'], dtype=object)"
      ]
     },
     "execution_count": 12,
     "metadata": {},
     "output_type": "execute_result"
    }
   ],
   "source": [
    "files_names.eval(session = sess)"
   ]
  },
  {
   "cell_type": "code",
   "execution_count": 13,
   "metadata": {},
   "outputs": [
    {
     "data": {
      "text/plain": [
       "array(['gs://dkuzin/experiments/test-data/data2.txt',\n",
       "       'gs://dkuzin/experiments/test-data/data4.txt',\n",
       "       'gs://dkuzin/experiments/test-data/data6.txt',\n",
       "       'gs://dkuzin/experiments/test-data/data8.txt'], dtype=object)"
      ]
     },
     "execution_count": 13,
     "metadata": {},
     "output_type": "execute_result"
    }
   ],
   "source": [
    "to_process.eval(session = sess)"
   ]
  },
  {
   "cell_type": "code",
   "execution_count": null,
   "metadata": {
    "collapsed": true
   },
   "outputs": [],
   "source": []
  },
  {
   "cell_type": "code",
   "execution_count": 14,
   "metadata": {},
   "outputs": [],
   "source": [
    "gena = (x for x in range(10))"
   ]
  },
  {
   "cell_type": "code",
   "execution_count": 22,
   "metadata": {},
   "outputs": [
    {
     "data": {
      "text/plain": [
       "6"
      ]
     },
     "execution_count": 22,
     "metadata": {},
     "output_type": "execute_result"
    }
   ],
   "source": [
    "gena.next()"
   ]
  },
  {
   "cell_type": "code",
   "execution_count": null,
   "metadata": {},
   "outputs": [],
   "source": []
  },
  {
   "cell_type": "code",
   "execution_count": null,
   "metadata": {
    "collapsed": true
   },
   "outputs": [],
   "source": []
  },
  {
   "cell_type": "code",
   "execution_count": null,
   "metadata": {},
   "outputs": [],
   "source": []
  },
  {
   "cell_type": "code",
   "execution_count": null,
   "metadata": {
    "collapsed": true
   },
   "outputs": [],
   "source": []
  },
  {
   "cell_type": "code",
   "execution_count": null,
   "metadata": {
    "collapsed": true
   },
   "outputs": [],
   "source": []
  },
  {
   "cell_type": "code",
   "execution_count": null,
   "metadata": {
    "collapsed": true
   },
   "outputs": [],
   "source": []
  },
  {
   "cell_type": "code",
   "execution_count": null,
   "metadata": {
    "collapsed": true
   },
   "outputs": [],
   "source": []
  },
  {
   "cell_type": "code",
   "execution_count": null,
   "metadata": {
    "collapsed": true
   },
   "outputs": [],
   "source": []
  },
  {
   "cell_type": "code",
   "execution_count": 43,
   "metadata": {},
   "outputs": [],
   "source": [
    "a = tf.constant(0.1, shape=(7,1))\n",
    "init = tf.global_variables_initializer()\n",
    "sess.run(init)      #we should to init variables"
   ]
  },
  {
   "cell_type": "code",
   "execution_count": 57,
   "metadata": {},
   "outputs": [
    {
     "data": {
      "text/plain": [
       "array([[ 0.1],\n",
       "       [ 0.1],\n",
       "       [ 0.1],\n",
       "       [ 0.1],\n",
       "       [ 0.1],\n",
       "       [ 0.1],\n",
       "       [ 0.1]], dtype=float32)"
      ]
     },
     "execution_count": 57,
     "metadata": {},
     "output_type": "execute_result"
    }
   ],
   "source": [
    "a.eval()"
   ]
  },
  {
   "cell_type": "code",
   "execution_count": 38,
   "metadata": {},
   "outputs": [
    {
     "data": {
      "text/plain": [
       "array([[  5.53999996],\n",
       "       [  9.07999992],\n",
       "       [ 12.61999989],\n",
       "       [ 16.15999985],\n",
       "       [ 20.05399895]], dtype=float32)"
      ]
     },
     "execution_count": 38,
     "metadata": {},
     "output_type": "execute_result"
    }
   ],
   "source": [
    "b.eval()"
   ]
  },
  {
   "cell_type": "code",
   "execution_count": null,
   "metadata": {
    "collapsed": true
   },
   "outputs": [],
   "source": []
  },
  {
   "cell_type": "code",
   "execution_count": null,
   "metadata": {
    "collapsed": true
   },
   "outputs": [],
   "source": []
  },
  {
   "cell_type": "code",
   "execution_count": 25,
   "metadata": {},
   "outputs": [
    {
     "name": "stdout",
     "output_type": "stream",
     "text": [
      "squares : \n",
      "[[ 1  4  9]\n",
      " [16 25 36]]\n"
     ]
    }
   ],
   "source": [
    "squares = tf.square([[1,2,3],[4,5,6]])       #square every value\n",
    "print \"squares : \\n{}\".format(sess.run(squares))"
   ]
  },
  {
   "cell_type": "code",
   "execution_count": 8,
   "metadata": {},
   "outputs": [
    {
     "name": "stdout",
     "output_type": "stream",
     "text": [
      "axis = None : 91\n",
      "axis = 0 : [17 29 45]\n",
      "axis = 1 : [14 77]\n"
     ]
    }
   ],
   "source": [
    "loss = tf.reduce_sum(squares, axis = None)     #reduce_sum function (there are reduce_min and others)\n",
    "print \"axis = None : {}\".format(sess.run(loss))\n",
    "loss = tf.reduce_sum(squares, axis = 0)\n",
    "print \"axis = 0 : {}\".format(sess.run(loss))\n",
    "loss = tf.reduce_sum(squares, axis = 1)\n",
    "print \"axis = 1 : {}\".format(sess.run(loss))"
   ]
  },
  {
   "cell_type": "code",
   "execution_count": 9,
   "metadata": {},
   "outputs": [
    {
     "data": {
      "text/plain": [
       "array([ 777.], dtype=float32)"
      ]
     },
     "execution_count": 9,
     "metadata": {},
     "output_type": "execute_result"
    }
   ],
   "source": [
    "reassign_variable = tf.assign(var, [777])    #reduceefine variable\n",
    "sess.run(reassign_variable)"
   ]
  },
  {
   "cell_type": "code",
   "execution_count": 10,
   "metadata": {},
   "outputs": [
    {
     "name": "stdout",
     "output_type": "stream",
     "text": [
      "[[ 3  6  9 12]\n",
      " [ 3  6  9 12]\n",
      " [ 3  6  9 12]] \n",
      "\n",
      "[[ 3  6  9 12]\n",
      " [ 3  6  9 12]\n",
      " [ 3  6  9 12]]\n"
     ]
    }
   ],
   "source": [
    "#what is matmul?\n",
    "aa = tf.constant([[1,2],[1,2],[1,2]])   #3x2  \n",
    "bb = tf.constant([[1,2,3,4], [1,2,3,4]])  #2x4\n",
    "cc = tf.matmul(aa,bb)\n",
    "print sess.run(cc), '\\n'  #3x4\n",
    "print np.dot(sess.run(aa), sess.run(bb))   #3x4\n",
    "\n",
    "#so, matmul in tensorflow is dot product in n dimension"
   ]
  },
  {
   "cell_type": "code",
   "execution_count": 16,
   "metadata": {},
   "outputs": [
    {
     "name": "stdout",
     "output_type": "stream",
     "text": [
      "[ 0.94195497  0.01561072  0.04243432]\n",
      "[0.94195497, 0.01561071, 0.04243432]\n"
     ]
    }
   ],
   "source": [
    "#example of softmax\n",
    "l = [5.1,1.0,2.0]\n",
    "print (sess.run(tf.nn.softmax(l)))\n",
    "#it is the same as:\n",
    "import math\n",
    "exp_l = [math.exp(x) for x in l]\n",
    "print([round(x/sum(exp_l),8) for x in exp_l])"
   ]
  },
  {
   "cell_type": "code",
   "execution_count": 13,
   "metadata": {},
   "outputs": [
    {
     "data": {
      "text/plain": [
       "array([2, 1])"
      ]
     },
     "execution_count": 13,
     "metadata": {},
     "output_type": "execute_result"
    }
   ],
   "source": [
    "#indexes of max element in tensor\n",
    "tf.argmax([[10,20,100,50],[10,70,3,50]], axis = 1).eval()"
   ]
  },
  {
   "cell_type": "code",
   "execution_count": 228,
   "metadata": {},
   "outputs": [
    {
     "name": "stdout",
     "output_type": "stream",
     "text": [
      "[ 1.  0.  1.]\n",
      "[1 2 3]\n"
     ]
    }
   ],
   "source": [
    "#tf.cast casts a tensor to a new type\n",
    "print tf.cast([True,False,True], tf.float32).eval()\n",
    "print tf.cast([1.4,2.5,3.9], tf.int16).eval()"
   ]
  },
  {
   "cell_type": "code",
   "execution_count": 231,
   "metadata": {},
   "outputs": [
    {
     "data": {
      "text/plain": [
       "array([ True,  True, False, False], dtype=bool)"
      ]
     },
     "execution_count": 231,
     "metadata": {},
     "output_type": "execute_result"
    }
   ],
   "source": [
    "#tf.equal compare 2 vectors (each element)\n",
    "tf.equal([1,2,3,0], [1,2,10,10]).eval()"
   ]
  },
  {
   "cell_type": "markdown",
   "metadata": {},
   "source": [
    "#### ML instruments"
   ]
  },
  {
   "cell_type": "code",
   "execution_count": 17,
   "metadata": {},
   "outputs": [
    {
     "name": "stdout",
     "output_type": "stream",
     "text": [
      "13908194.0 \t7210030.0 \t3737700.0 \t1937644.0 \t1004495.0 \t520751.0 \t269978.0 \t139977.0 \t72585.0 \t37649.0 \t19538.0 \t10149.0 \t5282.0 \t2759.0 \t1451.0 \t773.0 \t421.0 \t239.0 \t145.0 \t96.0 \t70.0 \t57.0 \t50.0 \t47.0 \t45.0 \t\n",
      "[ 3.55603719]\n"
     ]
    }
   ],
   "source": [
    "x = tf.placeholder(tf.float32); y = tf.placeholder(tf.float32)\n",
    "W = tf.Variable([1000.], tf.float32)  #start value\n",
    "\n",
    "loss = tf.reduce_sum(tf.square(W * x - y))\n",
    "optimizer = tf.train.GradientDescentOptimizer(0.01)\n",
    "train = optimizer.minimize(loss)  #it will change variables\n",
    "\n",
    "init = tf.global_variables_initializer()\n",
    "sess.run(init)      #we should to init variables\n",
    "for _ in xrange(25):\n",
    "    _, loss_val = sess.run([train, loss], feed_dict = {x:[1,2,3],y:[9,8,7]})\n",
    "    print round(loss_val), '\\t',\n",
    "print '\\n', W.eval()"
   ]
  },
  {
   "cell_type": "code",
   "execution_count": 20,
   "metadata": {},
   "outputs": [
    {
     "data": {
      "text/plain": [
       "array([[ 0.03983005,  0.03020634],\n",
       "       [-0.0760996 ,  0.0266649 ]], dtype=float32)"
      ]
     },
     "execution_count": 20,
     "metadata": {},
     "output_type": "execute_result"
    }
   ],
   "source": [
    "#initialization of tensor using normal distribution\n",
    "tf.truncated_normal((2,2), mean=0.0, stddev=0.1).eval()"
   ]
  },
  {
   "cell_type": "markdown",
   "metadata": {},
   "source": [
    "#### TensorBoard: Graph Visualization"
   ]
  },
  {
   "cell_type": "code",
   "execution_count": 215,
   "metadata": {
    "collapsed": true
   },
   "outputs": [],
   "source": [
    "#!python /home/dkuzin/tensorflow/tensorflow/examples/tutorials/mnist/mnist_with_summaries.py\n",
    "#!tensorboard --logdir=/tmp/tensorflow/mnist/logs/mnist_with_summaries --port 6006"
   ]
  },
  {
   "cell_type": "markdown",
   "metadata": {},
   "source": [
    "**Tensorboard**"
   ]
  },
  {
   "cell_type": "code",
   "execution_count": null,
   "metadata": {
    "collapsed": true
   },
   "outputs": [],
   "source": [
    "def variable_summaries(var, scope_name='summaries'):\n",
    "    \"\"\"Attach a lot of summaries to a Tensor (for TensorBoard visualization).\"\"\"\n",
    "    with tf.name_scope(scope_name):\n",
    "        mean = tf.reduce_mean(var)\n",
    "        tf.summary.scalar('mean', mean)\n",
    "        with tf.name_scope('stddev'):\n",
    "            stddev = tf.sqrt(tf.reduce_mean(tf.square(var - mean)))\n",
    "        tf.summary.scalar('stddev', stddev)\n",
    "        tf.summary.scalar('max', tf.reduce_max(var))\n",
    "        tf.summary.scalar('min', tf.reduce_min(var))\n",
    "        tf.summary.histogram('histogram', var)\n",
    "variable_summaries(nce_biases, scope_name='biases_stat')\n",
    "merged = tf.summary.merge_all()\n",
    "\n",
    "session = tf.Session(graph=graph)\n",
    "writer = tf.summary.FileWriter('./graphs', session.graph)\n",
    "for step in 1000:\n",
    "    if step%100 == 0:\n",
    "        run_options = tf.RunOptions(trace_level=tf.RunOptions.FULL_TRACE)\n",
    "        run_metadata = tf.RunMetadata()\n",
    "        _, loss_val, summary = session.run([optimizer, loss, merged],\n",
    "                                options=run_options, run_metadata=run_metadata)\n",
    "        writer.add_run_metadata(run_metadata, 'step%d' % counter[i])\n",
    "        writer.add_summary(summary, counter[i])\n",
    "    else:\n",
    "        if step%10 == 0:\n",
    "            _, loss_val, summary = session.run([optimizer, loss, merged])\n",
    "            writer.add_summary(summary, counter[i])\n",
    "        else:\n",
    "            #usual run\n",
    "            _, loss_val = session.run([optimizer, loss])"
   ]
  },
  {
   "cell_type": "markdown",
   "metadata": {
    "collapsed": true
   },
   "source": [
    "**Timeline:**\n",
    "\n",
    "https://stackoverflow.com/questions/37751739/tensorflow-code-optimization-strategy"
   ]
  },
  {
   "cell_type": "code",
   "execution_count": null,
   "metadata": {
    "collapsed": true
   },
   "outputs": [],
   "source": []
  },
  {
   "cell_type": "code",
   "execution_count": null,
   "metadata": {
    "collapsed": true
   },
   "outputs": [],
   "source": []
  },
  {
   "cell_type": "code",
   "execution_count": null,
   "metadata": {
    "collapsed": true
   },
   "outputs": [],
   "source": []
  },
  {
   "cell_type": "code",
   "execution_count": null,
   "metadata": {
    "collapsed": true
   },
   "outputs": [],
   "source": []
  },
  {
   "cell_type": "code",
   "execution_count": null,
   "metadata": {
    "collapsed": true
   },
   "outputs": [],
   "source": []
  },
  {
   "cell_type": "code",
   "execution_count": null,
   "metadata": {
    "collapsed": true
   },
   "outputs": [],
   "source": []
  },
  {
   "cell_type": "code",
   "execution_count": null,
   "metadata": {
    "collapsed": true
   },
   "outputs": [],
   "source": []
  },
  {
   "cell_type": "code",
   "execution_count": null,
   "metadata": {
    "collapsed": true
   },
   "outputs": [],
   "source": []
  },
  {
   "cell_type": "code",
   "execution_count": null,
   "metadata": {
    "collapsed": true
   },
   "outputs": [],
   "source": []
  },
  {
   "cell_type": "code",
   "execution_count": null,
   "metadata": {
    "collapsed": true
   },
   "outputs": [],
   "source": []
  },
  {
   "cell_type": "code",
   "execution_count": null,
   "metadata": {
    "collapsed": true
   },
   "outputs": [],
   "source": []
  },
  {
   "cell_type": "code",
   "execution_count": null,
   "metadata": {
    "collapsed": true
   },
   "outputs": [],
   "source": []
  },
  {
   "cell_type": "code",
   "execution_count": null,
   "metadata": {
    "collapsed": true
   },
   "outputs": [],
   "source": []
  },
  {
   "cell_type": "code",
   "execution_count": null,
   "metadata": {
    "collapsed": true
   },
   "outputs": [],
   "source": []
  },
  {
   "cell_type": "code",
   "execution_count": null,
   "metadata": {
    "collapsed": true
   },
   "outputs": [],
   "source": []
  },
  {
   "cell_type": "code",
   "execution_count": null,
   "metadata": {
    "collapsed": true
   },
   "outputs": [],
   "source": []
  }
 ],
 "metadata": {
  "kernelspec": {
   "display_name": "Python 3",
   "language": "python",
   "name": "python3"
  },
  "language_info": {
   "codemirror_mode": {
    "name": "ipython",
    "version": 3
   },
   "file_extension": ".py",
   "mimetype": "text/x-python",
   "name": "python",
   "nbconvert_exporter": "python",
   "pygments_lexer": "ipython3",
   "version": "3.6.1"
  }
 },
 "nbformat": 4,
 "nbformat_minor": 2
}
